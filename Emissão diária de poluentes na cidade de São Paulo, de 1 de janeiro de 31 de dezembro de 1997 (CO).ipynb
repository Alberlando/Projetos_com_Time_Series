{
 "cells": [
  {
   "cell_type": "markdown",
   "metadata": {},
   "source": [
    "## Emissão diária de poluentes na cidade de São Paulo, de 1 de janeiro a 31 de dezembro de 1997 (CO)"
   ]
  },
  {
   "cell_type": "code",
   "execution_count": 1,
   "metadata": {},
   "outputs": [
    {
     "data": {
      "text/plain": [
       "DATA\n",
       "1997-01-01       1.7133\n",
       "1997-01-02       1.6083\n",
       "1997-01-03       1.8983\n",
       "1997-01-04    1675.0000\n",
       "1997-01-05    2012.0000\n",
       "Name: co, dtype: float64"
      ]
     },
     "execution_count": 1,
     "metadata": {},
     "output_type": "execute_result"
    }
   ],
   "source": [
    "from fbprophet import Prophet\n",
    "import pandas as pd\n",
    "import numpy as np\n",
    "import matplotlib.pyplot as plt\n",
    "import warnings\n",
    "warnings.simplefilter('ignore')\n",
    "\n",
    "series = pd.read_csv('Database/a6_poluicao.csv', header=0, parse_dates=True, index_col=0, squeeze=True, usecols=['DATA', 'co'])\n",
    "series.head()"
   ]
  },
  {
   "cell_type": "markdown",
   "metadata": {},
   "source": [
    "**Separando os dados para treino, teste e validação**"
   ]
  },
  {
   "cell_type": "markdown",
   "metadata": {},
   "source": [
    "Vamos separar dois arquivos fisicos:\n",
    "\n",
    "  - **dataset_co.csv**: Dados de Janeiro de 1997 a Novembro de 1997.\n",
    "\n",
    "  - **validation_co.csv**: Dados de Dezembro de 1997."
   ]
  },
  {
   "cell_type": "code",
   "execution_count": 2,
   "metadata": {},
   "outputs": [],
   "source": [
    "# pega a quantidade de linhas e subtrai por 12\n",
    "split_point = len(series) - 31"
   ]
  },
  {
   "cell_type": "code",
   "execution_count": 3,
   "metadata": {},
   "outputs": [],
   "source": [
    "# define que a variável dataset vai conter linhas até o split_point\n",
    "dataset_co = series[0:split_point]"
   ]
  },
  {
   "cell_type": "code",
   "execution_count": 4,
   "metadata": {},
   "outputs": [],
   "source": [
    "# define que a variável validation terá os dados do split_point em diante\n",
    "validation_co = series[split_point:]"
   ]
  },
  {
   "cell_type": "code",
   "execution_count": 5,
   "metadata": {},
   "outputs": [
    {
     "name": "stdout",
     "output_type": "stream",
     "text": [
      "Dataset 334, Validation 31\n"
     ]
    }
   ],
   "source": [
    "# imprime o tamanho dos conjuntos\n",
    "print('Dataset %d, Validation %d' % (len(dataset_co), len(validation_co)))"
   ]
  },
  {
   "cell_type": "code",
   "execution_count": 6,
   "metadata": {},
   "outputs": [],
   "source": [
    "# escreve para o disco\n",
    "dataset_co.to_csv('Database/dataset_co.csv')"
   ]
  },
  {
   "cell_type": "code",
   "execution_count": 7,
   "metadata": {},
   "outputs": [],
   "source": [
    "# escreve para o disco.\n",
    "validation_co.to_csv('Database/validation_co.csv')"
   ]
  },
  {
   "cell_type": "markdown",
   "metadata": {},
   "source": [
    "## **Análise com Prophet**"
   ]
  },
  {
   "cell_type": "code",
   "execution_count": 8,
   "metadata": {},
   "outputs": [],
   "source": [
    "# ds: features temporais\n",
    "# y: valores a serem preditos\n",
    "\n",
    "dataframe = pd.DataFrame({'ds': dataset_co.index, \n",
    "                          'y': dataset_co.values})"
   ]
  },
  {
   "cell_type": "code",
   "execution_count": 9,
   "metadata": {},
   "outputs": [
    {
     "data": {
      "text/html": [
       "<div>\n",
       "<style scoped>\n",
       "    .dataframe tbody tr th:only-of-type {\n",
       "        vertical-align: middle;\n",
       "    }\n",
       "\n",
       "    .dataframe tbody tr th {\n",
       "        vertical-align: top;\n",
       "    }\n",
       "\n",
       "    .dataframe thead th {\n",
       "        text-align: right;\n",
       "    }\n",
       "</style>\n",
       "<table border=\"1\" class=\"dataframe\">\n",
       "  <thead>\n",
       "    <tr style=\"text-align: right;\">\n",
       "      <th></th>\n",
       "      <th>ds</th>\n",
       "      <th>y</th>\n",
       "    </tr>\n",
       "  </thead>\n",
       "  <tbody>\n",
       "    <tr>\n",
       "      <th>0</th>\n",
       "      <td>1997-01-01</td>\n",
       "      <td>1.7133</td>\n",
       "    </tr>\n",
       "    <tr>\n",
       "      <th>1</th>\n",
       "      <td>1997-01-02</td>\n",
       "      <td>1.6083</td>\n",
       "    </tr>\n",
       "    <tr>\n",
       "      <th>2</th>\n",
       "      <td>1997-01-03</td>\n",
       "      <td>1.8983</td>\n",
       "    </tr>\n",
       "    <tr>\n",
       "      <th>3</th>\n",
       "      <td>1997-01-04</td>\n",
       "      <td>1675.0000</td>\n",
       "    </tr>\n",
       "    <tr>\n",
       "      <th>4</th>\n",
       "      <td>1997-01-05</td>\n",
       "      <td>2012.0000</td>\n",
       "    </tr>\n",
       "  </tbody>\n",
       "</table>\n",
       "</div>"
      ],
      "text/plain": [
       "          ds          y\n",
       "0 1997-01-01     1.7133\n",
       "1 1997-01-02     1.6083\n",
       "2 1997-01-03     1.8983\n",
       "3 1997-01-04  1675.0000\n",
       "4 1997-01-05  2012.0000"
      ]
     },
     "execution_count": 9,
     "metadata": {},
     "output_type": "execute_result"
    }
   ],
   "source": [
    "# dataframe do prophet\n",
    "dataframe.head()"
   ]
  },
  {
   "cell_type": "code",
   "execution_count": 10,
   "metadata": {},
   "outputs": [],
   "source": [
    "# instancia o objeto prophet\n",
    "model = Prophet()"
   ]
  },
  {
   "cell_type": "code",
   "execution_count": 11,
   "metadata": {},
   "outputs": [
    {
     "name": "stderr",
     "output_type": "stream",
     "text": [
      "INFO:numexpr.utils:NumExpr defaulting to 8 threads.\n",
      "INFO:fbprophet:Disabling yearly seasonality. Run prophet with yearly_seasonality=True to override this.\n",
      "INFO:fbprophet:Disabling daily seasonality. Run prophet with daily_seasonality=True to override this.\n"
     ]
    },
    {
     "data": {
      "text/plain": [
       "<fbprophet.forecaster.Prophet at 0x203ee3826d0>"
      ]
     },
     "execution_count": 11,
     "metadata": {},
     "output_type": "execute_result"
    }
   ],
   "source": [
    "# gerando o modelo\n",
    "model.fit(dataframe)"
   ]
  },
  {
   "cell_type": "code",
   "execution_count": 12,
   "metadata": {},
   "outputs": [],
   "source": [
    "# gerando dados futuros\n",
    "future = model.make_future_dataframe(periods = 12, freq='M')"
   ]
  },
  {
   "cell_type": "code",
   "execution_count": 13,
   "metadata": {},
   "outputs": [
    {
     "data": {
      "text/html": [
       "<div>\n",
       "<style scoped>\n",
       "    .dataframe tbody tr th:only-of-type {\n",
       "        vertical-align: middle;\n",
       "    }\n",
       "\n",
       "    .dataframe tbody tr th {\n",
       "        vertical-align: top;\n",
       "    }\n",
       "\n",
       "    .dataframe thead th {\n",
       "        text-align: right;\n",
       "    }\n",
       "</style>\n",
       "<table border=\"1\" class=\"dataframe\">\n",
       "  <thead>\n",
       "    <tr style=\"text-align: right;\">\n",
       "      <th></th>\n",
       "      <th>ds</th>\n",
       "    </tr>\n",
       "  </thead>\n",
       "  <tbody>\n",
       "    <tr>\n",
       "      <th>0</th>\n",
       "      <td>1997-01-01</td>\n",
       "    </tr>\n",
       "    <tr>\n",
       "      <th>1</th>\n",
       "      <td>1997-01-02</td>\n",
       "    </tr>\n",
       "    <tr>\n",
       "      <th>2</th>\n",
       "      <td>1997-01-03</td>\n",
       "    </tr>\n",
       "    <tr>\n",
       "      <th>3</th>\n",
       "      <td>1997-01-04</td>\n",
       "    </tr>\n",
       "    <tr>\n",
       "      <th>4</th>\n",
       "      <td>1997-01-05</td>\n",
       "    </tr>\n",
       "    <tr>\n",
       "      <th>...</th>\n",
       "      <td>...</td>\n",
       "    </tr>\n",
       "    <tr>\n",
       "      <th>341</th>\n",
       "      <td>1998-07-31</td>\n",
       "    </tr>\n",
       "    <tr>\n",
       "      <th>342</th>\n",
       "      <td>1998-08-31</td>\n",
       "    </tr>\n",
       "    <tr>\n",
       "      <th>343</th>\n",
       "      <td>1998-09-30</td>\n",
       "    </tr>\n",
       "    <tr>\n",
       "      <th>344</th>\n",
       "      <td>1998-10-31</td>\n",
       "    </tr>\n",
       "    <tr>\n",
       "      <th>345</th>\n",
       "      <td>1998-11-30</td>\n",
       "    </tr>\n",
       "  </tbody>\n",
       "</table>\n",
       "<p>346 rows × 1 columns</p>\n",
       "</div>"
      ],
      "text/plain": [
       "            ds\n",
       "0   1997-01-01\n",
       "1   1997-01-02\n",
       "2   1997-01-03\n",
       "3   1997-01-04\n",
       "4   1997-01-05\n",
       "..         ...\n",
       "341 1998-07-31\n",
       "342 1998-08-31\n",
       "343 1998-09-30\n",
       "344 1998-10-31\n",
       "345 1998-11-30\n",
       "\n",
       "[346 rows x 1 columns]"
      ]
     },
     "execution_count": 13,
     "metadata": {},
     "output_type": "execute_result"
    }
   ],
   "source": [
    "future"
   ]
  },
  {
   "cell_type": "code",
   "execution_count": 14,
   "metadata": {},
   "outputs": [],
   "source": [
    "# prevendo valores para dados futuros\n",
    "out = model.predict(future)"
   ]
  },
  {
   "cell_type": "code",
   "execution_count": 15,
   "metadata": {},
   "outputs": [
    {
     "data": {
      "text/html": [
       "<div>\n",
       "<style scoped>\n",
       "    .dataframe tbody tr th:only-of-type {\n",
       "        vertical-align: middle;\n",
       "    }\n",
       "\n",
       "    .dataframe tbody tr th {\n",
       "        vertical-align: top;\n",
       "    }\n",
       "\n",
       "    .dataframe thead th {\n",
       "        text-align: right;\n",
       "    }\n",
       "</style>\n",
       "<table border=\"1\" class=\"dataframe\">\n",
       "  <thead>\n",
       "    <tr style=\"text-align: right;\">\n",
       "      <th></th>\n",
       "      <th>ds</th>\n",
       "      <th>trend</th>\n",
       "      <th>yhat_lower</th>\n",
       "      <th>yhat_upper</th>\n",
       "      <th>trend_lower</th>\n",
       "      <th>trend_upper</th>\n",
       "      <th>additive_terms</th>\n",
       "      <th>additive_terms_lower</th>\n",
       "      <th>additive_terms_upper</th>\n",
       "      <th>weekly</th>\n",
       "      <th>weekly_lower</th>\n",
       "      <th>weekly_upper</th>\n",
       "      <th>multiplicative_terms</th>\n",
       "      <th>multiplicative_terms_lower</th>\n",
       "      <th>multiplicative_terms_upper</th>\n",
       "      <th>yhat</th>\n",
       "    </tr>\n",
       "  </thead>\n",
       "  <tbody>\n",
       "    <tr>\n",
       "      <th>0</th>\n",
       "      <td>1997-01-01</td>\n",
       "      <td>379.728866</td>\n",
       "      <td>-841.393141</td>\n",
       "      <td>1480.493645</td>\n",
       "      <td>379.728866</td>\n",
       "      <td>379.728866</td>\n",
       "      <td>-57.457575</td>\n",
       "      <td>-57.457575</td>\n",
       "      <td>-57.457575</td>\n",
       "      <td>-57.457575</td>\n",
       "      <td>-57.457575</td>\n",
       "      <td>-57.457575</td>\n",
       "      <td>0.0</td>\n",
       "      <td>0.0</td>\n",
       "      <td>0.0</td>\n",
       "      <td>322.271291</td>\n",
       "    </tr>\n",
       "    <tr>\n",
       "      <th>1</th>\n",
       "      <td>1997-01-02</td>\n",
       "      <td>378.714395</td>\n",
       "      <td>-686.643942</td>\n",
       "      <td>1540.373880</td>\n",
       "      <td>378.714395</td>\n",
       "      <td>378.714395</td>\n",
       "      <td>89.658864</td>\n",
       "      <td>89.658864</td>\n",
       "      <td>89.658864</td>\n",
       "      <td>89.658864</td>\n",
       "      <td>89.658864</td>\n",
       "      <td>89.658864</td>\n",
       "      <td>0.0</td>\n",
       "      <td>0.0</td>\n",
       "      <td>0.0</td>\n",
       "      <td>468.373259</td>\n",
       "    </tr>\n",
       "    <tr>\n",
       "      <th>2</th>\n",
       "      <td>1997-01-03</td>\n",
       "      <td>377.699924</td>\n",
       "      <td>-753.703498</td>\n",
       "      <td>1458.923082</td>\n",
       "      <td>377.699924</td>\n",
       "      <td>377.699924</td>\n",
       "      <td>-68.529984</td>\n",
       "      <td>-68.529984</td>\n",
       "      <td>-68.529984</td>\n",
       "      <td>-68.529984</td>\n",
       "      <td>-68.529984</td>\n",
       "      <td>-68.529984</td>\n",
       "      <td>0.0</td>\n",
       "      <td>0.0</td>\n",
       "      <td>0.0</td>\n",
       "      <td>309.169940</td>\n",
       "    </tr>\n",
       "    <tr>\n",
       "      <th>3</th>\n",
       "      <td>1997-01-04</td>\n",
       "      <td>376.685453</td>\n",
       "      <td>-777.919107</td>\n",
       "      <td>1450.768633</td>\n",
       "      <td>376.685453</td>\n",
       "      <td>376.685453</td>\n",
       "      <td>-83.089666</td>\n",
       "      <td>-83.089666</td>\n",
       "      <td>-83.089666</td>\n",
       "      <td>-83.089666</td>\n",
       "      <td>-83.089666</td>\n",
       "      <td>-83.089666</td>\n",
       "      <td>0.0</td>\n",
       "      <td>0.0</td>\n",
       "      <td>0.0</td>\n",
       "      <td>293.595787</td>\n",
       "    </tr>\n",
       "    <tr>\n",
       "      <th>4</th>\n",
       "      <td>1997-01-05</td>\n",
       "      <td>375.670982</td>\n",
       "      <td>-851.436492</td>\n",
       "      <td>1458.751999</td>\n",
       "      <td>375.670982</td>\n",
       "      <td>375.670982</td>\n",
       "      <td>-42.673926</td>\n",
       "      <td>-42.673926</td>\n",
       "      <td>-42.673926</td>\n",
       "      <td>-42.673926</td>\n",
       "      <td>-42.673926</td>\n",
       "      <td>-42.673926</td>\n",
       "      <td>0.0</td>\n",
       "      <td>0.0</td>\n",
       "      <td>0.0</td>\n",
       "      <td>332.997056</td>\n",
       "    </tr>\n",
       "  </tbody>\n",
       "</table>\n",
       "</div>"
      ],
      "text/plain": [
       "          ds       trend  yhat_lower   yhat_upper  trend_lower  trend_upper  \\\n",
       "0 1997-01-01  379.728866 -841.393141  1480.493645   379.728866   379.728866   \n",
       "1 1997-01-02  378.714395 -686.643942  1540.373880   378.714395   378.714395   \n",
       "2 1997-01-03  377.699924 -753.703498  1458.923082   377.699924   377.699924   \n",
       "3 1997-01-04  376.685453 -777.919107  1450.768633   376.685453   376.685453   \n",
       "4 1997-01-05  375.670982 -851.436492  1458.751999   375.670982   375.670982   \n",
       "\n",
       "   additive_terms  additive_terms_lower  additive_terms_upper     weekly  \\\n",
       "0      -57.457575            -57.457575            -57.457575 -57.457575   \n",
       "1       89.658864             89.658864             89.658864  89.658864   \n",
       "2      -68.529984            -68.529984            -68.529984 -68.529984   \n",
       "3      -83.089666            -83.089666            -83.089666 -83.089666   \n",
       "4      -42.673926            -42.673926            -42.673926 -42.673926   \n",
       "\n",
       "   weekly_lower  weekly_upper  multiplicative_terms  \\\n",
       "0    -57.457575    -57.457575                   0.0   \n",
       "1     89.658864     89.658864                   0.0   \n",
       "2    -68.529984    -68.529984                   0.0   \n",
       "3    -83.089666    -83.089666                   0.0   \n",
       "4    -42.673926    -42.673926                   0.0   \n",
       "\n",
       "   multiplicative_terms_lower  multiplicative_terms_upper        yhat  \n",
       "0                         0.0                         0.0  322.271291  \n",
       "1                         0.0                         0.0  468.373259  \n",
       "2                         0.0                         0.0  309.169940  \n",
       "3                         0.0                         0.0  293.595787  \n",
       "4                         0.0                         0.0  332.997056  "
      ]
     },
     "execution_count": 15,
     "metadata": {},
     "output_type": "execute_result"
    }
   ],
   "source": [
    "# imprime saidas\n",
    "out.head()"
   ]
  },
  {
   "cell_type": "code",
   "execution_count": 16,
   "metadata": {},
   "outputs": [
    {
     "data": {
      "text/html": [
       "<div>\n",
       "<style scoped>\n",
       "    .dataframe tbody tr th:only-of-type {\n",
       "        vertical-align: middle;\n",
       "    }\n",
       "\n",
       "    .dataframe tbody tr th {\n",
       "        vertical-align: top;\n",
       "    }\n",
       "\n",
       "    .dataframe thead th {\n",
       "        text-align: right;\n",
       "    }\n",
       "</style>\n",
       "<table border=\"1\" class=\"dataframe\">\n",
       "  <thead>\n",
       "    <tr style=\"text-align: right;\">\n",
       "      <th></th>\n",
       "      <th>ds</th>\n",
       "      <th>yhat</th>\n",
       "      <th>yhat_lower</th>\n",
       "      <th>yhat_upper</th>\n",
       "    </tr>\n",
       "  </thead>\n",
       "  <tbody>\n",
       "    <tr>\n",
       "      <th>339</th>\n",
       "      <td>1998-05-31</td>\n",
       "      <td>96.482225</td>\n",
       "      <td>-1003.815044</td>\n",
       "      <td>1183.980943</td>\n",
       "    </tr>\n",
       "    <tr>\n",
       "      <th>340</th>\n",
       "      <td>1998-06-30</td>\n",
       "      <td>173.586611</td>\n",
       "      <td>-996.113024</td>\n",
       "      <td>1405.553946</td>\n",
       "    </tr>\n",
       "    <tr>\n",
       "      <th>341</th>\n",
       "      <td>1998-07-31</td>\n",
       "      <td>57.918060</td>\n",
       "      <td>-1036.374431</td>\n",
       "      <td>1177.594422</td>\n",
       "    </tr>\n",
       "    <tr>\n",
       "      <th>342</th>\n",
       "      <td>1998-08-31</td>\n",
       "      <td>241.401762</td>\n",
       "      <td>-827.146716</td>\n",
       "      <td>1384.586045</td>\n",
       "    </tr>\n",
       "    <tr>\n",
       "      <th>343</th>\n",
       "      <td>1998-09-30</td>\n",
       "      <td>56.282361</td>\n",
       "      <td>-1099.261620</td>\n",
       "      <td>1164.654185</td>\n",
       "    </tr>\n",
       "    <tr>\n",
       "      <th>344</th>\n",
       "      <td>1998-10-31</td>\n",
       "      <td>24.192051</td>\n",
       "      <td>-1112.389233</td>\n",
       "      <td>1160.468896</td>\n",
       "    </tr>\n",
       "    <tr>\n",
       "      <th>345</th>\n",
       "      <td>1998-11-30</td>\n",
       "      <td>222.443765</td>\n",
       "      <td>-1007.364022</td>\n",
       "      <td>1300.095599</td>\n",
       "    </tr>\n",
       "  </tbody>\n",
       "</table>\n",
       "</div>"
      ],
      "text/plain": [
       "            ds        yhat   yhat_lower   yhat_upper\n",
       "339 1998-05-31   96.482225 -1003.815044  1183.980943\n",
       "340 1998-06-30  173.586611  -996.113024  1405.553946\n",
       "341 1998-07-31   57.918060 -1036.374431  1177.594422\n",
       "342 1998-08-31  241.401762  -827.146716  1384.586045\n",
       "343 1998-09-30   56.282361 -1099.261620  1164.654185\n",
       "344 1998-10-31   24.192051 -1112.389233  1160.468896\n",
       "345 1998-11-30  222.443765 -1007.364022  1300.095599"
      ]
     },
     "execution_count": 16,
     "metadata": {},
     "output_type": "execute_result"
    }
   ],
   "source": [
    "out[['ds', 'yhat', 'yhat_lower', 'yhat_upper']].tail(7)"
   ]
  },
  {
   "cell_type": "markdown",
   "metadata": {},
   "source": [
    "**Validando o modelo com Prophet**"
   ]
  },
  {
   "cell_type": "code",
   "execution_count": 17,
   "metadata": {},
   "outputs": [],
   "source": [
    "# dataset de validação\n",
    "validation_df = pd.DataFrame({'ds': validation_co.index})"
   ]
  },
  {
   "cell_type": "code",
   "execution_count": 18,
   "metadata": {},
   "outputs": [
    {
     "data": {
      "text/plain": [
       "0    1997-12-01\n",
       "1    1997-12-02\n",
       "2    1997-12-03\n",
       "3    1997-12-04\n",
       "4    1997-12-05\n",
       "5    1997-12-06\n",
       "6    1997-12-07\n",
       "7    1997-12-08\n",
       "8    1997-12-09\n",
       "9    1997-12-10\n",
       "10   1997-12-11\n",
       "11   1997-12-12\n",
       "12   1997-12-13\n",
       "13   1997-12-14\n",
       "14   1997-12-15\n",
       "15   1997-12-16\n",
       "16   1997-12-17\n",
       "17   1997-12-18\n",
       "18   1997-12-19\n",
       "19   1997-12-20\n",
       "20   1997-12-21\n",
       "21   1997-12-22\n",
       "22   1997-12-23\n",
       "23   1997-12-24\n",
       "24   1997-12-25\n",
       "25   1997-12-26\n",
       "26   1997-12-27\n",
       "27   1997-12-28\n",
       "28   1997-12-29\n",
       "29   1997-12-30\n",
       "30   1997-12-31\n",
       "Name: ds, dtype: datetime64[ns]"
      ]
     },
     "execution_count": 18,
     "metadata": {},
     "output_type": "execute_result"
    }
   ],
   "source": [
    "# dados temporais\n",
    "validation_df['ds']"
   ]
  },
  {
   "cell_type": "code",
   "execution_count": 19,
   "metadata": {},
   "outputs": [],
   "source": [
    "# aplicando o modelo do prophet\n",
    "out = model.predict(validation_df)"
   ]
  },
  {
   "cell_type": "code",
   "execution_count": 20,
   "metadata": {},
   "outputs": [
    {
     "data": {
      "text/html": [
       "<div>\n",
       "<style scoped>\n",
       "    .dataframe tbody tr th:only-of-type {\n",
       "        vertical-align: middle;\n",
       "    }\n",
       "\n",
       "    .dataframe tbody tr th {\n",
       "        vertical-align: top;\n",
       "    }\n",
       "\n",
       "    .dataframe thead th {\n",
       "        text-align: right;\n",
       "    }\n",
       "</style>\n",
       "<table border=\"1\" class=\"dataframe\">\n",
       "  <thead>\n",
       "    <tr style=\"text-align: right;\">\n",
       "      <th></th>\n",
       "      <th>ds</th>\n",
       "      <th>yhat</th>\n",
       "      <th>yhat_lower</th>\n",
       "      <th>yhat_upper</th>\n",
       "    </tr>\n",
       "  </thead>\n",
       "  <tbody>\n",
       "    <tr>\n",
       "      <th>0</th>\n",
       "      <td>1997-12-01</td>\n",
       "      <td>298.275754</td>\n",
       "      <td>-795.250401</td>\n",
       "      <td>1410.360694</td>\n",
       "    </tr>\n",
       "    <tr>\n",
       "      <th>1</th>\n",
       "      <td>1997-12-02</td>\n",
       "      <td>217.335835</td>\n",
       "      <td>-853.825624</td>\n",
       "      <td>1333.240600</td>\n",
       "    </tr>\n",
       "    <tr>\n",
       "      <th>2</th>\n",
       "      <td>1997-12-03</td>\n",
       "      <td>118.989583</td>\n",
       "      <td>-944.439019</td>\n",
       "      <td>1289.619150</td>\n",
       "    </tr>\n",
       "    <tr>\n",
       "      <th>3</th>\n",
       "      <td>1997-12-04</td>\n",
       "      <td>265.897692</td>\n",
       "      <td>-900.974994</td>\n",
       "      <td>1422.057499</td>\n",
       "    </tr>\n",
       "    <tr>\n",
       "      <th>4</th>\n",
       "      <td>1997-12-05</td>\n",
       "      <td>107.500514</td>\n",
       "      <td>-971.715317</td>\n",
       "      <td>1284.101677</td>\n",
       "    </tr>\n",
       "    <tr>\n",
       "      <th>5</th>\n",
       "      <td>1997-12-06</td>\n",
       "      <td>92.732502</td>\n",
       "      <td>-1139.329392</td>\n",
       "      <td>1259.758733</td>\n",
       "    </tr>\n",
       "    <tr>\n",
       "      <th>6</th>\n",
       "      <td>1997-12-07</td>\n",
       "      <td>132.939912</td>\n",
       "      <td>-1024.905035</td>\n",
       "      <td>1277.720710</td>\n",
       "    </tr>\n",
       "    <tr>\n",
       "      <th>7</th>\n",
       "      <td>1997-12-08</td>\n",
       "      <td>296.817447</td>\n",
       "      <td>-792.627348</td>\n",
       "      <td>1458.290847</td>\n",
       "    </tr>\n",
       "    <tr>\n",
       "      <th>8</th>\n",
       "      <td>1997-12-09</td>\n",
       "      <td>215.877528</td>\n",
       "      <td>-967.738187</td>\n",
       "      <td>1267.142108</td>\n",
       "    </tr>\n",
       "    <tr>\n",
       "      <th>9</th>\n",
       "      <td>1997-12-10</td>\n",
       "      <td>117.531275</td>\n",
       "      <td>-1050.334634</td>\n",
       "      <td>1161.599648</td>\n",
       "    </tr>\n",
       "    <tr>\n",
       "      <th>10</th>\n",
       "      <td>1997-12-11</td>\n",
       "      <td>264.439384</td>\n",
       "      <td>-877.297977</td>\n",
       "      <td>1353.265512</td>\n",
       "    </tr>\n",
       "    <tr>\n",
       "      <th>11</th>\n",
       "      <td>1997-12-12</td>\n",
       "      <td>106.042207</td>\n",
       "      <td>-1007.364785</td>\n",
       "      <td>1314.092151</td>\n",
       "    </tr>\n",
       "    <tr>\n",
       "      <th>12</th>\n",
       "      <td>1997-12-13</td>\n",
       "      <td>91.274195</td>\n",
       "      <td>-951.200022</td>\n",
       "      <td>1232.263958</td>\n",
       "    </tr>\n",
       "    <tr>\n",
       "      <th>13</th>\n",
       "      <td>1997-12-14</td>\n",
       "      <td>131.481605</td>\n",
       "      <td>-1055.214616</td>\n",
       "      <td>1267.580946</td>\n",
       "    </tr>\n",
       "    <tr>\n",
       "      <th>14</th>\n",
       "      <td>1997-12-15</td>\n",
       "      <td>295.359139</td>\n",
       "      <td>-777.709849</td>\n",
       "      <td>1524.765189</td>\n",
       "    </tr>\n",
       "    <tr>\n",
       "      <th>15</th>\n",
       "      <td>1997-12-16</td>\n",
       "      <td>214.419220</td>\n",
       "      <td>-860.007200</td>\n",
       "      <td>1371.143061</td>\n",
       "    </tr>\n",
       "    <tr>\n",
       "      <th>16</th>\n",
       "      <td>1997-12-17</td>\n",
       "      <td>116.072968</td>\n",
       "      <td>-1029.947917</td>\n",
       "      <td>1187.204014</td>\n",
       "    </tr>\n",
       "    <tr>\n",
       "      <th>17</th>\n",
       "      <td>1997-12-18</td>\n",
       "      <td>262.981077</td>\n",
       "      <td>-890.092650</td>\n",
       "      <td>1438.113773</td>\n",
       "    </tr>\n",
       "    <tr>\n",
       "      <th>18</th>\n",
       "      <td>1997-12-19</td>\n",
       "      <td>104.583899</td>\n",
       "      <td>-1132.437861</td>\n",
       "      <td>1149.093861</td>\n",
       "    </tr>\n",
       "    <tr>\n",
       "      <th>19</th>\n",
       "      <td>1997-12-20</td>\n",
       "      <td>89.815887</td>\n",
       "      <td>-1075.275699</td>\n",
       "      <td>1195.850174</td>\n",
       "    </tr>\n",
       "    <tr>\n",
       "      <th>20</th>\n",
       "      <td>1997-12-21</td>\n",
       "      <td>130.023297</td>\n",
       "      <td>-1041.715995</td>\n",
       "      <td>1381.108768</td>\n",
       "    </tr>\n",
       "    <tr>\n",
       "      <th>21</th>\n",
       "      <td>1997-12-22</td>\n",
       "      <td>293.900832</td>\n",
       "      <td>-822.325236</td>\n",
       "      <td>1320.110661</td>\n",
       "    </tr>\n",
       "    <tr>\n",
       "      <th>22</th>\n",
       "      <td>1997-12-23</td>\n",
       "      <td>212.960913</td>\n",
       "      <td>-850.775018</td>\n",
       "      <td>1341.471990</td>\n",
       "    </tr>\n",
       "    <tr>\n",
       "      <th>23</th>\n",
       "      <td>1997-12-24</td>\n",
       "      <td>114.614660</td>\n",
       "      <td>-1023.031546</td>\n",
       "      <td>1245.076384</td>\n",
       "    </tr>\n",
       "    <tr>\n",
       "      <th>24</th>\n",
       "      <td>1997-12-25</td>\n",
       "      <td>261.522769</td>\n",
       "      <td>-879.272034</td>\n",
       "      <td>1381.606070</td>\n",
       "    </tr>\n",
       "    <tr>\n",
       "      <th>25</th>\n",
       "      <td>1997-12-26</td>\n",
       "      <td>103.125592</td>\n",
       "      <td>-1036.088802</td>\n",
       "      <td>1234.063389</td>\n",
       "    </tr>\n",
       "    <tr>\n",
       "      <th>26</th>\n",
       "      <td>1997-12-27</td>\n",
       "      <td>88.357580</td>\n",
       "      <td>-1069.581585</td>\n",
       "      <td>1144.756351</td>\n",
       "    </tr>\n",
       "    <tr>\n",
       "      <th>27</th>\n",
       "      <td>1997-12-28</td>\n",
       "      <td>128.564990</td>\n",
       "      <td>-1020.044833</td>\n",
       "      <td>1223.038707</td>\n",
       "    </tr>\n",
       "    <tr>\n",
       "      <th>28</th>\n",
       "      <td>1997-12-29</td>\n",
       "      <td>292.442524</td>\n",
       "      <td>-871.078579</td>\n",
       "      <td>1396.882909</td>\n",
       "    </tr>\n",
       "    <tr>\n",
       "      <th>29</th>\n",
       "      <td>1997-12-30</td>\n",
       "      <td>211.502605</td>\n",
       "      <td>-925.483984</td>\n",
       "      <td>1310.103698</td>\n",
       "    </tr>\n",
       "    <tr>\n",
       "      <th>30</th>\n",
       "      <td>1997-12-31</td>\n",
       "      <td>113.156353</td>\n",
       "      <td>-986.844427</td>\n",
       "      <td>1259.606011</td>\n",
       "    </tr>\n",
       "  </tbody>\n",
       "</table>\n",
       "</div>"
      ],
      "text/plain": [
       "           ds        yhat   yhat_lower   yhat_upper\n",
       "0  1997-12-01  298.275754  -795.250401  1410.360694\n",
       "1  1997-12-02  217.335835  -853.825624  1333.240600\n",
       "2  1997-12-03  118.989583  -944.439019  1289.619150\n",
       "3  1997-12-04  265.897692  -900.974994  1422.057499\n",
       "4  1997-12-05  107.500514  -971.715317  1284.101677\n",
       "5  1997-12-06   92.732502 -1139.329392  1259.758733\n",
       "6  1997-12-07  132.939912 -1024.905035  1277.720710\n",
       "7  1997-12-08  296.817447  -792.627348  1458.290847\n",
       "8  1997-12-09  215.877528  -967.738187  1267.142108\n",
       "9  1997-12-10  117.531275 -1050.334634  1161.599648\n",
       "10 1997-12-11  264.439384  -877.297977  1353.265512\n",
       "11 1997-12-12  106.042207 -1007.364785  1314.092151\n",
       "12 1997-12-13   91.274195  -951.200022  1232.263958\n",
       "13 1997-12-14  131.481605 -1055.214616  1267.580946\n",
       "14 1997-12-15  295.359139  -777.709849  1524.765189\n",
       "15 1997-12-16  214.419220  -860.007200  1371.143061\n",
       "16 1997-12-17  116.072968 -1029.947917  1187.204014\n",
       "17 1997-12-18  262.981077  -890.092650  1438.113773\n",
       "18 1997-12-19  104.583899 -1132.437861  1149.093861\n",
       "19 1997-12-20   89.815887 -1075.275699  1195.850174\n",
       "20 1997-12-21  130.023297 -1041.715995  1381.108768\n",
       "21 1997-12-22  293.900832  -822.325236  1320.110661\n",
       "22 1997-12-23  212.960913  -850.775018  1341.471990\n",
       "23 1997-12-24  114.614660 -1023.031546  1245.076384\n",
       "24 1997-12-25  261.522769  -879.272034  1381.606070\n",
       "25 1997-12-26  103.125592 -1036.088802  1234.063389\n",
       "26 1997-12-27   88.357580 -1069.581585  1144.756351\n",
       "27 1997-12-28  128.564990 -1020.044833  1223.038707\n",
       "28 1997-12-29  292.442524  -871.078579  1396.882909\n",
       "29 1997-12-30  211.502605  -925.483984  1310.103698\n",
       "30 1997-12-31  113.156353  -986.844427  1259.606011"
      ]
     },
     "execution_count": 20,
     "metadata": {},
     "output_type": "execute_result"
    }
   ],
   "source": [
    "# imprime as saidas\n",
    "out[['ds', 'yhat', 'yhat_lower', 'yhat_upper']]"
   ]
  },
  {
   "cell_type": "code",
   "execution_count": 21,
   "metadata": {},
   "outputs": [
    {
     "data": {
      "text/plain": [
       "DATA\n",
       "1997-12-01       4.2567\n",
       "1997-12-02    4205.0000\n",
       "1997-12-03       3.7400\n",
       "1997-12-04       4.6043\n",
       "1997-12-05       3.9471\n",
       "1997-12-06       3.2186\n",
       "1997-12-07       2.3843\n",
       "1997-12-08       3.0114\n",
       "1997-12-09       2.7043\n",
       "1997-12-10       2.3886\n",
       "1997-12-11       2.3200\n",
       "1997-12-12       3.2071\n",
       "1997-12-13       3.8157\n",
       "1997-12-14       3.2986\n",
       "1997-12-15       3.3000\n",
       "1997-12-16       3.2729\n",
       "1997-12-17       1.8714\n",
       "1997-12-18       2.9071\n",
       "1997-12-19       3.5743\n",
       "1997-12-20       3.5800\n",
       "1997-12-21       3.2033\n",
       "1997-12-22       3.9433\n",
       "1997-12-23       3.8229\n",
       "1997-12-24       3.4229\n",
       "1997-12-25       1.5600\n",
       "1997-12-26       2.2143\n",
       "1997-12-27       2.1571\n",
       "1997-12-28       1.8914\n",
       "1997-12-29       2.9000\n",
       "1997-12-30       3.1086\n",
       "1997-12-31       2.6617\n",
       "Name: co, dtype: float64"
      ]
     },
     "execution_count": 21,
     "metadata": {},
     "output_type": "execute_result"
    }
   ],
   "source": [
    "validation_co"
   ]
  },
  {
   "cell_type": "code",
   "execution_count": 22,
   "metadata": {},
   "outputs": [
    {
     "name": "stdout",
     "output_type": "stream",
     "text": [
      "Test RMSE: 740.070\n"
     ]
    }
   ],
   "source": [
    "# Avaliando os resultados\n",
    "from sklearn.metrics import mean_squared_error\n",
    "from math import sqrt\n",
    "rmse = sqrt(mean_squared_error(validation_co.values, out.yhat))\n",
    "print('Test RMSE: %.3f' % rmse)"
   ]
  },
  {
   "cell_type": "markdown",
   "metadata": {},
   "source": [
    "**Prevendo o futuro**"
   ]
  },
  {
   "cell_type": "code",
   "execution_count": 23,
   "metadata": {},
   "outputs": [
    {
     "data": {
      "image/png": "[encoded data removed]",
      "text/plain": [
       "<Figure size 720x432 with 1 Axes>"
      ]
     },
     "metadata": {},
     "output_type": "display_data"
    }
   ],
   "source": [
    "# Python\n",
    "figure = model.plot(out)"
   ]
  },
  {
   "cell_type": "code",
   "execution_count": 24,
   "metadata": {},
   "outputs": [
    {
     "data": {
      "image/png": "[encoded data removed]",
      "text/plain": [
       "<Figure size 648x432 with 2 Axes>"
      ]
     },
     "execution_count": 24,
     "metadata": {},
     "output_type": "execute_result"
    },
    {
     "data": {
      "image/png": "[encoded data removed]",
      "text/plain": [
       "<Figure size 648x432 with 2 Axes>"
      ]
     },
     "metadata": {},
     "output_type": "display_data"
    }
   ],
   "source": [
    "model.plot_components(out)"
   ]
  },
  {
   "cell_type": "code",
   "execution_count": 25,
   "metadata": {},
   "outputs": [],
   "source": [
    "dataframe = pd.DataFrame({'ds': dataset_co.index, 'y': dataset_co.values})"
   ]
  },
  {
   "cell_type": "code",
   "execution_count": 26,
   "metadata": {},
   "outputs": [
    {
     "data": {
      "text/html": [
       "<div>\n",
       "<style scoped>\n",
       "    .dataframe tbody tr th:only-of-type {\n",
       "        vertical-align: middle;\n",
       "    }\n",
       "\n",
       "    .dataframe tbody tr th {\n",
       "        vertical-align: top;\n",
       "    }\n",
       "\n",
       "    .dataframe thead th {\n",
       "        text-align: right;\n",
       "    }\n",
       "</style>\n",
       "<table border=\"1\" class=\"dataframe\">\n",
       "  <thead>\n",
       "    <tr style=\"text-align: right;\">\n",
       "      <th></th>\n",
       "      <th>ds</th>\n",
       "      <th>y</th>\n",
       "    </tr>\n",
       "  </thead>\n",
       "  <tbody>\n",
       "    <tr>\n",
       "      <th>0</th>\n",
       "      <td>1997-01-01</td>\n",
       "      <td>1.7133</td>\n",
       "    </tr>\n",
       "    <tr>\n",
       "      <th>1</th>\n",
       "      <td>1997-01-02</td>\n",
       "      <td>1.6083</td>\n",
       "    </tr>\n",
       "    <tr>\n",
       "      <th>2</th>\n",
       "      <td>1997-01-03</td>\n",
       "      <td>1.8983</td>\n",
       "    </tr>\n",
       "    <tr>\n",
       "      <th>3</th>\n",
       "      <td>1997-01-04</td>\n",
       "      <td>1675.0000</td>\n",
       "    </tr>\n",
       "    <tr>\n",
       "      <th>4</th>\n",
       "      <td>1997-01-05</td>\n",
       "      <td>2012.0000</td>\n",
       "    </tr>\n",
       "    <tr>\n",
       "      <th>...</th>\n",
       "      <td>...</td>\n",
       "      <td>...</td>\n",
       "    </tr>\n",
       "    <tr>\n",
       "      <th>329</th>\n",
       "      <td>1997-11-26</td>\n",
       "      <td>2.8729</td>\n",
       "    </tr>\n",
       "    <tr>\n",
       "      <th>330</th>\n",
       "      <td>1997-11-27</td>\n",
       "      <td>3.6771</td>\n",
       "    </tr>\n",
       "    <tr>\n",
       "      <th>331</th>\n",
       "      <td>1997-11-28</td>\n",
       "      <td>3.3367</td>\n",
       "    </tr>\n",
       "    <tr>\n",
       "      <th>332</th>\n",
       "      <td>1997-11-29</td>\n",
       "      <td>2.1383</td>\n",
       "    </tr>\n",
       "    <tr>\n",
       "      <th>333</th>\n",
       "      <td>1997-11-30</td>\n",
       "      <td>1.6017</td>\n",
       "    </tr>\n",
       "  </tbody>\n",
       "</table>\n",
       "<p>334 rows × 2 columns</p>\n",
       "</div>"
      ],
      "text/plain": [
       "            ds          y\n",
       "0   1997-01-01     1.7133\n",
       "1   1997-01-02     1.6083\n",
       "2   1997-01-03     1.8983\n",
       "3   1997-01-04  1675.0000\n",
       "4   1997-01-05  2012.0000\n",
       "..         ...        ...\n",
       "329 1997-11-26     2.8729\n",
       "330 1997-11-27     3.6771\n",
       "331 1997-11-28     3.3367\n",
       "332 1997-11-29     2.1383\n",
       "333 1997-11-30     1.6017\n",
       "\n",
       "[334 rows x 2 columns]"
      ]
     },
     "execution_count": 26,
     "metadata": {},
     "output_type": "execute_result"
    }
   ],
   "source": [
    "dataframe"
   ]
  },
  {
   "cell_type": "markdown",
   "metadata": {},
   "source": [
    "Alterando o modo de sazonalidade"
   ]
  },
  {
   "cell_type": "code",
   "execution_count": 27,
   "metadata": {},
   "outputs": [],
   "source": [
    "model = Prophet(seasonality_mode='multiplicative')"
   ]
  },
  {
   "cell_type": "code",
   "execution_count": 28,
   "metadata": {},
   "outputs": [
    {
     "name": "stderr",
     "output_type": "stream",
     "text": [
      "INFO:fbprophet:Disabling yearly seasonality. Run prophet with yearly_seasonality=True to override this.\n",
      "INFO:fbprophet:Disabling daily seasonality. Run prophet with daily_seasonality=True to override this.\n"
     ]
    },
    {
     "data": {
      "text/plain": [
       "<fbprophet.forecaster.Prophet at 0x203f23d50d0>"
      ]
     },
     "execution_count": 28,
     "metadata": {},
     "output_type": "execute_result"
    }
   ],
   "source": [
    "model.fit(dataframe)"
   ]
  },
  {
   "cell_type": "code",
   "execution_count": 29,
   "metadata": {},
   "outputs": [],
   "source": [
    "validation_df = pd.DataFrame({'ds': validation_co.index})"
   ]
  },
  {
   "cell_type": "code",
   "execution_count": 30,
   "metadata": {},
   "outputs": [],
   "source": [
    "out = model.predict(validation_df)"
   ]
  },
  {
   "cell_type": "code",
   "execution_count": 31,
   "metadata": {},
   "outputs": [
    {
     "name": "stdout",
     "output_type": "stream",
     "text": [
      "Test RMSE: 746.701\n"
     ]
    }
   ],
   "source": [
    "# Avaliando os resultados\n",
    "from sklearn.metrics import mean_squared_error\n",
    "from math import sqrt\n",
    "rmse = sqrt(mean_squared_error(validation_co.values, out.yhat))\n",
    "print('Test RMSE: %.3f' % rmse)"
   ]
  },
  {
   "cell_type": "markdown",
   "metadata": {},
   "source": [
    "Alterando tipos de sazonalidade"
   ]
  },
  {
   "cell_type": "code",
   "execution_count": 32,
   "metadata": {},
   "outputs": [],
   "source": [
    "# cria um modelo com sazonalidade  multiplicativa e desligando a sazonalidade diária\n",
    "model = Prophet(seasonality_mode='multiplicative', daily_seasonality=False)"
   ]
  },
  {
   "cell_type": "code",
   "execution_count": 33,
   "metadata": {},
   "outputs": [
    {
     "name": "stderr",
     "output_type": "stream",
     "text": [
      "INFO:fbprophet:Disabling yearly seasonality. Run prophet with yearly_seasonality=True to override this.\n"
     ]
    },
    {
     "data": {
      "text/plain": [
       "<fbprophet.forecaster.Prophet at 0x203f237afa0>"
      ]
     },
     "execution_count": 33,
     "metadata": {},
     "output_type": "execute_result"
    }
   ],
   "source": [
    "model.fit(dataframe)"
   ]
  },
  {
   "cell_type": "code",
   "execution_count": 34,
   "metadata": {},
   "outputs": [
    {
     "data": {
      "text/plain": [
       "OrderedDict([('weekly',\n",
       "              {'period': 7,\n",
       "               'fourier_order': 3,\n",
       "               'prior_scale': 10.0,\n",
       "               'mode': 'multiplicative',\n",
       "               'condition_name': None})])"
      ]
     },
     "execution_count": 34,
     "metadata": {},
     "output_type": "execute_result"
    }
   ],
   "source": [
    "# imprime a sazonalidade habilitada\n",
    "model.seasonalities"
   ]
  },
  {
   "cell_type": "code",
   "execution_count": 35,
   "metadata": {},
   "outputs": [],
   "source": [
    "# cria o dataframe de validação\n",
    "validation_df = pd.DataFrame({'ds': validation_co.index})"
   ]
  },
  {
   "cell_type": "code",
   "execution_count": 36,
   "metadata": {},
   "outputs": [],
   "source": [
    "# prevendo dados\n",
    "out = model.predict(validation_df)"
   ]
  },
  {
   "cell_type": "code",
   "execution_count": 37,
   "metadata": {},
   "outputs": [
    {
     "name": "stdout",
     "output_type": "stream",
     "text": [
      "Test RMSE: 746.701\n"
     ]
    }
   ],
   "source": [
    "# Avaliando os resultados\n",
    "from sklearn.metrics import mean_squared_error\n",
    "from math import sqrt\n",
    "rmse = sqrt(mean_squared_error(validation_co.values, out.yhat))\n",
    "print('Test RMSE: %.3f' % rmse)"
   ]
  }
 ],
 "metadata": {
  "kernelspec": {
   "display_name": "Python 3",
   "language": "python",
   "name": "python3"
  },
  "language_info": {
   "codemirror_mode": {
    "name": "ipython",
    "version": 3
   },
   "file_extension": ".py",
   "mimetype": "text/x-python",
   "name": "python",
   "nbconvert_exporter": "python",
   "pygments_lexer": "ipython3",
   "version": "3.8.3"
  }
 },
 "nbformat": 4,
 "nbformat_minor": 5
}
